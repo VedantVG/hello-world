{
 "cells": [
  {
   "cell_type": "code",
   "execution_count": 1,
   "id": "b4e7e7a9",
   "metadata": {},
   "outputs": [
    {
     "name": "stdout",
     "output_type": "stream",
     "text": [
      "Hello World\n"
     ]
    }
   ],
   "source": [
    "print(\"Hello World\")"
   ]
  },
  {
   "cell_type": "code",
   "execution_count": 2,
   "id": "88c9b3c0",
   "metadata": {},
   "outputs": [
    {
     "name": "stdout",
     "output_type": "stream",
     "text": [
      "My First Code\n"
     ]
    }
   ],
   "source": [
    "print(\"My First Code\")"
   ]
  },
  {
   "cell_type": "code",
   "execution_count": 3,
   "id": "5b74d9cc",
   "metadata": {},
   "outputs": [
    {
     "name": "stdout",
     "output_type": "stream",
     "text": [
      "My First Python Code\n"
     ]
    }
   ],
   "source": [
    "print(\"My First Python Code\")"
   ]
  },
  {
   "cell_type": "code",
   "execution_count": 5,
   "id": "e9029b8c",
   "metadata": {},
   "outputs": [
    {
     "name": "stdout",
     "output_type": "stream",
     "text": [
      "My First Code in Jupyter Notebook\n"
     ]
    }
   ],
   "source": [
    "print(\"My First Code in Jupyter Notebook\")"
   ]
  },
  {
   "cell_type": "code",
   "execution_count": null,
   "id": "9ab948a5",
   "metadata": {},
   "outputs": [],
   "source": []
  }
 ],
 "metadata": {
  "kernelspec": {
   "display_name": "Python 3",
   "language": "python",
   "name": "python3"
  },
  "language_info": {
   "codemirror_mode": {
    "name": "ipython",
    "version": 3
   },
   "file_extension": ".py",
   "mimetype": "text/x-python",
   "name": "python",
   "nbconvert_exporter": "python",
   "pygments_lexer": "ipython3",
   "version": "3.8.8"
  }
 },
 "nbformat": 4,
 "nbformat_minor": 5
}
